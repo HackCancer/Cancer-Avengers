{
 "cells": [
  {
   "cell_type": "code",
   "execution_count": 6,
   "metadata": {},
   "outputs": [],
   "source": [
    "import dask.dataframe as dd\n",
    "import numpy as np"
   ]
  },
  {
   "cell_type": "code",
   "execution_count": 2,
   "metadata": {},
   "outputs": [],
   "source": [
    "dfCosmicM = dd.read_csv('../data/raw/CosmicCompleteDifferentialMethylation.tsv', sep='\\t')"
   ]
  },
  {
   "cell_type": "markdown",
   "metadata": {},
   "source": [
    "### IDEA 1"
   ]
  },
  {
   "cell_type": "code",
   "execution_count": 8,
   "metadata": {},
   "outputs": [],
   "source": [
    "df = dd.read_csv('../data/processed/CosmicSampleAge.csv')"
   ]
  },
  {
   "cell_type": "code",
   "execution_count": 9,
   "metadata": {},
   "outputs": [],
   "source": [
    "dfSol = dd.merge(dfCosmicM, df, how='outer', on='ID_SAMPLE')"
   ]
  },
  {
   "cell_type": "code",
   "execution_count": 25,
   "metadata": {},
   "outputs": [],
   "source": [
    "dfSol1  = dfSol.drop([u'STUDY_ID', u'SAMPLE_NAME', u'ID_TUMOUR',\n",
    "        u'SITE_SUBTYPE_1', u'SITE_SUBTYPE_2',\n",
    "       u'SITE_SUBTYPE_3', u'HISTOLOGY_SUBTYPE_1',\n",
    "       u'HISTOLOGY_SUBTYPE_2', u'HISTOLOGY_SUBTYPE_3',\n",
    "       u'GENOME_VERSION', u'CHROMOSOME', u'STRAND', 'FRAGMENT_ID', 'AVG_BETA_VALUE_NORMAL', 'BETA_VALUE', 'TWO_SIDED_P_VALUE'], axis=1)"
   ]
  },
  {
   "cell_type": "code",
   "execution_count": 26,
   "metadata": {},
   "outputs": [
    {
     "data": {
      "text/html": [
       "<div>\n",
       "<style scoped>\n",
       "    .dataframe tbody tr th:only-of-type {\n",
       "        vertical-align: middle;\n",
       "    }\n",
       "\n",
       "    .dataframe tbody tr th {\n",
       "        vertical-align: top;\n",
       "    }\n",
       "\n",
       "    .dataframe thead th {\n",
       "        text-align: right;\n",
       "    }\n",
       "</style>\n",
       "<table border=\"1\" class=\"dataframe\">\n",
       "  <thead>\n",
       "    <tr style=\"text-align: right;\">\n",
       "      <th></th>\n",
       "      <th>ID_SAMPLE</th>\n",
       "      <th>PRIMARY_SITE</th>\n",
       "      <th>PRIMARY_HISTOLOGY</th>\n",
       "      <th>POSITION</th>\n",
       "      <th>GENE_NAME</th>\n",
       "      <th>METHYLATION</th>\n",
       "      <th>age</th>\n",
       "    </tr>\n",
       "  </thead>\n",
       "  <tbody>\n",
       "    <tr>\n",
       "      <th>0</th>\n",
       "      <td>1783508</td>\n",
       "      <td>endometrium</td>\n",
       "      <td>carcinoma</td>\n",
       "      <td>165805031</td>\n",
       "      <td>NaN</td>\n",
       "      <td>H</td>\n",
       "      <td>73.0</td>\n",
       "    </tr>\n",
       "    <tr>\n",
       "      <th>1</th>\n",
       "      <td>1783508</td>\n",
       "      <td>endometrium</td>\n",
       "      <td>carcinoma</td>\n",
       "      <td>166056842</td>\n",
       "      <td>NaN</td>\n",
       "      <td>H</td>\n",
       "      <td>73.0</td>\n",
       "    </tr>\n",
       "    <tr>\n",
       "      <th>2</th>\n",
       "      <td>1783508</td>\n",
       "      <td>endometrium</td>\n",
       "      <td>carcinoma</td>\n",
       "      <td>4862761</td>\n",
       "      <td>MSX1</td>\n",
       "      <td>L</td>\n",
       "      <td>73.0</td>\n",
       "    </tr>\n",
       "    <tr>\n",
       "      <th>3</th>\n",
       "      <td>1783508</td>\n",
       "      <td>endometrium</td>\n",
       "      <td>carcinoma</td>\n",
       "      <td>2271461</td>\n",
       "      <td>NaN</td>\n",
       "      <td>H</td>\n",
       "      <td>73.0</td>\n",
       "    </tr>\n",
       "    <tr>\n",
       "      <th>4</th>\n",
       "      <td>1783508</td>\n",
       "      <td>endometrium</td>\n",
       "      <td>carcinoma</td>\n",
       "      <td>26017052</td>\n",
       "      <td>NaN</td>\n",
       "      <td>H</td>\n",
       "      <td>73.0</td>\n",
       "    </tr>\n",
       "  </tbody>\n",
       "</table>\n",
       "</div>"
      ],
      "text/plain": [
       "   ID_SAMPLE PRIMARY_SITE PRIMARY_HISTOLOGY   POSITION GENE_NAME METHYLATION  \\\n",
       "0    1783508  endometrium         carcinoma  165805031       NaN           H   \n",
       "1    1783508  endometrium         carcinoma  166056842       NaN           H   \n",
       "2    1783508  endometrium         carcinoma    4862761      MSX1           L   \n",
       "3    1783508  endometrium         carcinoma    2271461       NaN           H   \n",
       "4    1783508  endometrium         carcinoma   26017052       NaN           H   \n",
       "\n",
       "    age  \n",
       "0  73.0  \n",
       "1  73.0  \n",
       "2  73.0  \n",
       "3  73.0  \n",
       "4  73.0  "
      ]
     },
     "execution_count": 26,
     "metadata": {},
     "output_type": "execute_result"
    }
   ],
   "source": [
    "dfSol1.head()"
   ]
  },
  {
   "cell_type": "code",
   "execution_count": 28,
   "metadata": {},
   "outputs": [],
   "source": [
    "dfIdea1 = dfSol1.compute().dropna(axis=0)"
   ]
  },
  {
   "cell_type": "code",
   "execution_count": 30,
   "metadata": {},
   "outputs": [],
   "source": [
    "dfIdea1.to_csv('../data/processed/Methylation_Idea1.csv', index=False)"
   ]
  },
  {
   "cell_type": "markdown",
   "metadata": {},
   "source": [
    "### IDEA 2"
   ]
  },
  {
   "cell_type": "code",
   "execution_count": 51,
   "metadata": {},
   "outputs": [],
   "source": [
    "dfSol2  = dfCosmicM.drop([u'STUDY_ID', u'SAMPLE_NAME', u'ID_TUMOUR',\n",
    "        u'SITE_SUBTYPE_1', u'SITE_SUBTYPE_2',\n",
    "       u'SITE_SUBTYPE_3', u'HISTOLOGY_SUBTYPE_1',\n",
    "       u'HISTOLOGY_SUBTYPE_2', u'HISTOLOGY_SUBTYPE_3',\n",
    "       u'GENOME_VERSION', u'STRAND', 'FRAGMENT_ID', 'AVG_BETA_VALUE_NORMAL', 'GENE_NAME', 'BETA_VALUE', 'TWO_SIDED_P_VALUE'], axis=1)"
   ]
  },
  {
   "cell_type": "code",
   "execution_count": 52,
   "metadata": {},
   "outputs": [
    {
     "data": {
      "text/html": [
       "<div>\n",
       "<style scoped>\n",
       "    .dataframe tbody tr th:only-of-type {\n",
       "        vertical-align: middle;\n",
       "    }\n",
       "\n",
       "    .dataframe tbody tr th {\n",
       "        vertical-align: top;\n",
       "    }\n",
       "\n",
       "    .dataframe thead th {\n",
       "        text-align: right;\n",
       "    }\n",
       "</style>\n",
       "<table border=\"1\" class=\"dataframe\">\n",
       "  <thead>\n",
       "    <tr style=\"text-align: right;\">\n",
       "      <th></th>\n",
       "      <th>ID_SAMPLE</th>\n",
       "      <th>PRIMARY_SITE</th>\n",
       "      <th>PRIMARY_HISTOLOGY</th>\n",
       "      <th>CHROMOSOME</th>\n",
       "      <th>POSITION</th>\n",
       "      <th>METHYLATION</th>\n",
       "    </tr>\n",
       "  </thead>\n",
       "  <tbody>\n",
       "    <tr>\n",
       "      <th>0</th>\n",
       "      <td>1780195</td>\n",
       "      <td>lung</td>\n",
       "      <td>carcinoma</td>\n",
       "      <td>1</td>\n",
       "      <td>158930759</td>\n",
       "      <td>L</td>\n",
       "    </tr>\n",
       "    <tr>\n",
       "      <th>1</th>\n",
       "      <td>2194833</td>\n",
       "      <td>lung</td>\n",
       "      <td>carcinoma</td>\n",
       "      <td>16</td>\n",
       "      <td>22915304</td>\n",
       "      <td>L</td>\n",
       "    </tr>\n",
       "    <tr>\n",
       "      <th>2</th>\n",
       "      <td>1914101</td>\n",
       "      <td>lung</td>\n",
       "      <td>carcinoma</td>\n",
       "      <td>6</td>\n",
       "      <td>27558244</td>\n",
       "      <td>H</td>\n",
       "    </tr>\n",
       "    <tr>\n",
       "      <th>3</th>\n",
       "      <td>1914035</td>\n",
       "      <td>lung</td>\n",
       "      <td>carcinoma</td>\n",
       "      <td>7</td>\n",
       "      <td>15687816</td>\n",
       "      <td>H</td>\n",
       "    </tr>\n",
       "    <tr>\n",
       "      <th>4</th>\n",
       "      <td>2339891</td>\n",
       "      <td>lung</td>\n",
       "      <td>carcinoma</td>\n",
       "      <td>2</td>\n",
       "      <td>176084004</td>\n",
       "      <td>H</td>\n",
       "    </tr>\n",
       "  </tbody>\n",
       "</table>\n",
       "</div>"
      ],
      "text/plain": [
       "   ID_SAMPLE PRIMARY_SITE PRIMARY_HISTOLOGY  CHROMOSOME   POSITION METHYLATION\n",
       "0    1780195         lung         carcinoma           1  158930759           L\n",
       "1    2194833         lung         carcinoma          16   22915304           L\n",
       "2    1914101         lung         carcinoma           6   27558244           H\n",
       "3    1914035         lung         carcinoma           7   15687816           H\n",
       "4    2339891         lung         carcinoma           2  176084004           H"
      ]
     },
     "execution_count": 52,
     "metadata": {},
     "output_type": "execute_result"
    }
   ],
   "source": [
    "dfSol2.head()"
   ]
  },
  {
   "cell_type": "code",
   "execution_count": 45,
   "metadata": {},
   "outputs": [],
   "source": [
    "dfIdea2 = dfSol2.compute().dropna(axis=0)"
   ]
  },
  {
   "cell_type": "code",
   "execution_count": 46,
   "metadata": {},
   "outputs": [
    {
     "data": {
      "text/html": [
       "<div>\n",
       "<style scoped>\n",
       "    .dataframe tbody tr th:only-of-type {\n",
       "        vertical-align: middle;\n",
       "    }\n",
       "\n",
       "    .dataframe tbody tr th {\n",
       "        vertical-align: top;\n",
       "    }\n",
       "\n",
       "    .dataframe thead th {\n",
       "        text-align: right;\n",
       "    }\n",
       "</style>\n",
       "<table border=\"1\" class=\"dataframe\">\n",
       "  <thead>\n",
       "    <tr style=\"text-align: right;\">\n",
       "      <th></th>\n",
       "      <th>ID_SAMPLE</th>\n",
       "      <th>PRIMARY_SITE</th>\n",
       "      <th>PRIMARY_HISTOLOGY</th>\n",
       "      <th>CHROMOSOME</th>\n",
       "      <th>POSITION</th>\n",
       "      <th>METHYLATION</th>\n",
       "      <th>age</th>\n",
       "    </tr>\n",
       "  </thead>\n",
       "  <tbody>\n",
       "    <tr>\n",
       "      <th>0</th>\n",
       "      <td>1783508</td>\n",
       "      <td>endometrium</td>\n",
       "      <td>carcinoma</td>\n",
       "      <td>6</td>\n",
       "      <td>165805031</td>\n",
       "      <td>H</td>\n",
       "      <td>73.0</td>\n",
       "    </tr>\n",
       "    <tr>\n",
       "      <th>1</th>\n",
       "      <td>1783508</td>\n",
       "      <td>endometrium</td>\n",
       "      <td>carcinoma</td>\n",
       "      <td>6</td>\n",
       "      <td>166056842</td>\n",
       "      <td>H</td>\n",
       "      <td>73.0</td>\n",
       "    </tr>\n",
       "    <tr>\n",
       "      <th>2</th>\n",
       "      <td>1783508</td>\n",
       "      <td>endometrium</td>\n",
       "      <td>carcinoma</td>\n",
       "      <td>4</td>\n",
       "      <td>4862761</td>\n",
       "      <td>L</td>\n",
       "      <td>73.0</td>\n",
       "    </tr>\n",
       "    <tr>\n",
       "      <th>3</th>\n",
       "      <td>1783508</td>\n",
       "      <td>endometrium</td>\n",
       "      <td>carcinoma</td>\n",
       "      <td>11</td>\n",
       "      <td>2271461</td>\n",
       "      <td>H</td>\n",
       "      <td>73.0</td>\n",
       "    </tr>\n",
       "    <tr>\n",
       "      <th>4</th>\n",
       "      <td>1783508</td>\n",
       "      <td>endometrium</td>\n",
       "      <td>carcinoma</td>\n",
       "      <td>6</td>\n",
       "      <td>26017052</td>\n",
       "      <td>H</td>\n",
       "      <td>73.0</td>\n",
       "    </tr>\n",
       "  </tbody>\n",
       "</table>\n",
       "</div>"
      ],
      "text/plain": [
       "   ID_SAMPLE PRIMARY_SITE PRIMARY_HISTOLOGY  CHROMOSOME   POSITION  \\\n",
       "0    1783508  endometrium         carcinoma           6  165805031   \n",
       "1    1783508  endometrium         carcinoma           6  166056842   \n",
       "2    1783508  endometrium         carcinoma           4    4862761   \n",
       "3    1783508  endometrium         carcinoma          11    2271461   \n",
       "4    1783508  endometrium         carcinoma           6   26017052   \n",
       "\n",
       "  METHYLATION   age  \n",
       "0           H  73.0  \n",
       "1           H  73.0  \n",
       "2           L  73.0  \n",
       "3           H  73.0  \n",
       "4           H  73.0  "
      ]
     },
     "execution_count": 46,
     "metadata": {},
     "output_type": "execute_result"
    }
   ],
   "source": [
    "dfIdea2.head()"
   ]
  },
  {
   "cell_type": "code",
   "execution_count": 47,
   "metadata": {},
   "outputs": [],
   "source": [
    "dfIdea2.to_csv('../data/processed/Methylation_Idea2.csv', index=False)"
   ]
  },
  {
   "cell_type": "code",
   "execution_count": null,
   "metadata": {},
   "outputs": [],
   "source": []
  }
 ],
 "metadata": {
  "kernelspec": {
   "display_name": "Python 3",
   "language": "python",
   "name": "python3"
  },
  "language_info": {
   "codemirror_mode": {
    "name": "ipython",
    "version": 2
   },
   "file_extension": ".py",
   "mimetype": "text/x-python",
   "name": "python",
   "nbconvert_exporter": "python",
   "pygments_lexer": "ipython2",
   "version": "2.7.12"
  }
 },
 "nbformat": 4,
 "nbformat_minor": 2
}
